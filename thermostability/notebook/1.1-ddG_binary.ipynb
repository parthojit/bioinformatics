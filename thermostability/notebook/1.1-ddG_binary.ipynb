{
 "cells": [
  {
   "cell_type": "code",
   "execution_count": 7,
   "id": "a0663b88-01f7-4fe9-a401-c3639e3a6917",
   "metadata": {},
   "outputs": [],
   "source": [
    "#ddG_binary classification\n",
    "\n",
    "import pandas as pd"
   ]
  },
  {
   "cell_type": "code",
   "execution_count": 75,
   "id": "8d996a63-4e3a-4635-975a-c9619b2b2e51",
   "metadata": {},
   "outputs": [
    {
     "data": {
      "text/html": [
       "<div>\n",
       "<style scoped>\n",
       "    .dataframe tbody tr th:only-of-type {\n",
       "        vertical-align: middle;\n",
       "    }\n",
       "\n",
       "    .dataframe tbody tr th {\n",
       "        vertical-align: top;\n",
       "    }\n",
       "\n",
       "    .dataframe thead th {\n",
       "        text-align: right;\n",
       "    }\n",
       "</style>\n",
       "<table border=\"1\" class=\"dataframe\">\n",
       "  <thead>\n",
       "    <tr style=\"text-align: right;\">\n",
       "      <th></th>\n",
       "      <th>SecSt</th>\n",
       "      <th>ASA_pct</th>\n",
       "      <th>delta_MW</th>\n",
       "      <th>delta_Chg</th>\n",
       "      <th>delta_ARM</th>\n",
       "      <th>delta_Hydro</th>\n",
       "      <th>delta_VdwV</th>\n",
       "      <th>delta_SASA</th>\n",
       "      <th>ddG_calc</th>\n",
       "      <th>ddGC</th>\n",
       "    </tr>\n",
       "  </thead>\n",
       "  <tbody>\n",
       "    <tr>\n",
       "      <th>0</th>\n",
       "      <td>1</td>\n",
       "      <td>18.92</td>\n",
       "      <td>1</td>\n",
       "      <td>-1.0</td>\n",
       "      <td>0.0</td>\n",
       "      <td>-0.208</td>\n",
       "      <td>-5</td>\n",
       "      <td>-7</td>\n",
       "      <td>0.861</td>\n",
       "      <td>unstable</td>\n",
       "    </tr>\n",
       "    <tr>\n",
       "      <th>1</th>\n",
       "      <td>2</td>\n",
       "      <td>0.94</td>\n",
       "      <td>-16</td>\n",
       "      <td>0.0</td>\n",
       "      <td>0.0</td>\n",
       "      <td>0.257</td>\n",
       "      <td>-6</td>\n",
       "      <td>-13</td>\n",
       "      <td>0.806</td>\n",
       "      <td>unstable</td>\n",
       "    </tr>\n",
       "    <tr>\n",
       "      <th>2</th>\n",
       "      <td>2</td>\n",
       "      <td>8.61</td>\n",
       "      <td>22</td>\n",
       "      <td>1.5</td>\n",
       "      <td>0.5</td>\n",
       "      <td>0.137</td>\n",
       "      <td>27</td>\n",
       "      <td>45</td>\n",
       "      <td>-4.583</td>\n",
       "      <td>stable</td>\n",
       "    </tr>\n",
       "    <tr>\n",
       "      <th>3</th>\n",
       "      <td>3</td>\n",
       "      <td>8.67</td>\n",
       "      <td>-43</td>\n",
       "      <td>0.0</td>\n",
       "      <td>0.0</td>\n",
       "      <td>0.380</td>\n",
       "      <td>-29</td>\n",
       "      <td>-46</td>\n",
       "      <td>1.564</td>\n",
       "      <td>unstable</td>\n",
       "    </tr>\n",
       "    <tr>\n",
       "      <th>4</th>\n",
       "      <td>2</td>\n",
       "      <td>4.92</td>\n",
       "      <td>-10</td>\n",
       "      <td>-0.5</td>\n",
       "      <td>0.0</td>\n",
       "      <td>-0.263</td>\n",
       "      <td>-38</td>\n",
       "      <td>-33</td>\n",
       "      <td>5.951</td>\n",
       "      <td>unstable</td>\n",
       "    </tr>\n",
       "  </tbody>\n",
       "</table>\n",
       "</div>"
      ],
      "text/plain": [
       "   SecSt  ASA_pct  delta_MW  delta_Chg  delta_ARM  delta_Hydro  delta_VdwV  \\\n",
       "0      1    18.92         1       -1.0        0.0       -0.208          -5   \n",
       "1      2     0.94       -16        0.0        0.0        0.257          -6   \n",
       "2      2     8.61        22        1.5        0.5        0.137          27   \n",
       "3      3     8.67       -43        0.0        0.0        0.380         -29   \n",
       "4      2     4.92       -10       -0.5        0.0       -0.263         -38   \n",
       "\n",
       "   delta_SASA  ddG_calc      ddGC  \n",
       "0          -7     0.861  unstable  \n",
       "1         -13     0.806  unstable  \n",
       "2          45    -4.583    stable  \n",
       "3         -46     1.564  unstable  \n",
       "4         -33     5.951  unstable  "
      ]
     },
     "execution_count": 75,
     "metadata": {},
     "output_type": "execute_result"
    }
   ],
   "source": [
    "df_train = pd.read_csv('../src/ddg_bin_train.csv')\n",
    "df_test = pd.read_csv('../src/ddg_bin_test.csv')\n",
    "df_train.head(5)"
   ]
  },
  {
   "cell_type": "code",
   "execution_count": 68,
   "id": "a9728fbb-feaf-45a3-b829-f3d29240b165",
   "metadata": {},
   "outputs": [],
   "source": [
    "def return_array(df:pd.DataFrame):\n",
    "    X = df.iloc[:,0:len(df.columns)-1].values\n",
    "    y = pd.get_dummies(df['ddGC'])\n",
    "    y = y['stable'].to_numpy()\n",
    "    return X,y"
   ]
  },
  {
   "cell_type": "code",
   "execution_count": 78,
   "id": "2e3d1322-b2f5-4dd1-86be-4c42e3c28993",
   "metadata": {},
   "outputs": [],
   "source": [
    "X_train, y_train = return_array(df_train)\n",
    "X_test, y_test = return_array(df_test)\n",
    "\n",
    "# 0: unstable, 1: stable"
   ]
  },
  {
   "cell_type": "code",
   "execution_count": 72,
   "id": "e53365ce-0249-485b-ad45-79009a1e1805",
   "metadata": {},
   "outputs": [
    {
     "data": {
      "text/plain": [
       "95"
      ]
     },
     "execution_count": 72,
     "metadata": {},
     "output_type": "execute_result"
    }
   ],
   "source": []
  },
  {
   "cell_type": "code",
   "execution_count": null,
   "id": "79823fc4-825a-4ec4-b90a-fa8aee8ecc64",
   "metadata": {},
   "outputs": [],
   "source": []
  }
 ],
 "metadata": {
  "kernelspec": {
   "display_name": "Python 3",
   "language": "python",
   "name": "python3"
  },
  "language_info": {
   "codemirror_mode": {
    "name": "ipython",
    "version": 3
   },
   "file_extension": ".py",
   "mimetype": "text/x-python",
   "name": "python",
   "nbconvert_exporter": "python",
   "pygments_lexer": "ipython3",
   "version": "3.7.3"
  }
 },
 "nbformat": 4,
 "nbformat_minor": 5
}
