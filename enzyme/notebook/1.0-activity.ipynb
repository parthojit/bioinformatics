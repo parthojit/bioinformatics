{
 "cells": [
  {
   "cell_type": "markdown",
   "metadata": {},
   "source": [
    "# Activite/inactive (classification)"
   ]
  },
  {
   "cell_type": "code",
   "execution_count": 1,
   "metadata": {},
   "outputs": [],
   "source": [
    "import pandas as pd\n",
    "import numpy as np\n",
    "df = pd.read_csv(\"../src/prot_features_clf.csv\")\n",
    "X = df.iloc[:,1:(len(df.columns)-1)].values\n",
    "y = pd.get_dummies(df['is_active'])\n",
    "y = np.array(y['Y'])\n",
    "\n",
    "from sklearn.model_selection import train_test_split\n",
    "X_train, X_test, y_train, y_test = train_test_split(X, y, test_size=0.25, random_state=42)"
   ]
  },
  {
   "cell_type": "code",
   "execution_count": 2,
   "metadata": {},
   "outputs": [],
   "source": [
    "import pickle\n",
    "\n",
    "with open('../src/clf/X_train.pkl','wb') as f:\n",
    "    pickle.dump(X_train,f)\n",
    "    \n",
    "with open('../src/clf/X_test.pkl','wb') as f:\n",
    "    pickle.dump(X_test,f)\n",
    "\n",
    "with open('../src/clf/y_train.pkl','wb') as f:\n",
    "    pickle.dump(y_train,f)\n",
    "    \n",
    "with open('../src/clf/y_test.pkl','wb') as f:\n",
    "    pickle.dump(y_test,f)"
   ]
  },
  {
   "cell_type": "markdown",
   "metadata": {},
   "source": [
    "## 1. Random Forest"
   ]
  },
  {
   "cell_type": "code",
   "execution_count": 3,
   "metadata": {},
   "outputs": [
    {
     "name": "stdout",
     "output_type": "stream",
     "text": [
      "0.7892300910960918\n"
     ]
    }
   ],
   "source": [
    "# best params {'bootstrap': True, 'min_samples_leaf': 5, 'min_samples_split': 2, 'n_estimators': 200}\n",
    "\n",
    "from sklearn.ensemble import RandomForestClassifier\n",
    "from sklearn.model_selection import cross_val_score, cross_val_predict\n",
    "from sklearn.metrics import confusion_matrix\n",
    "import numpy as np\n",
    "import seaborn as sns\n",
    "\n",
    "model = []\n",
    "cv_accuracy = []\n",
    "test_accuracy = []\n",
    "\n",
    "clf = RandomForestClassifier(bootstrap=True, min_samples_leaf=5, min_samples_split=2,n_estimators=200)\n",
    "\n",
    "scores = cross_val_score(clf, X_train, y_train, cv=10, scoring=\"accuracy\")\n",
    "print(np.mean(scores))\n",
    "cv_accuracy.append(np.mean(scores))"
   ]
  },
  {
   "cell_type": "code",
   "execution_count": 4,
   "metadata": {},
   "outputs": [
    {
     "name": "stdout",
     "output_type": "stream",
     "text": [
      "              precision    recall  f1-score   support\n",
      "\n",
      "           0       0.80      0.86      0.83       138\n",
      "           1       0.84      0.78      0.81       136\n",
      "\n",
      "    accuracy                           0.82       274\n",
      "   macro avg       0.82      0.82      0.82       274\n",
      "weighted avg       0.82      0.82      0.82       274\n",
      "\n",
      "0.8175182481751825\n"
     ]
    },
    {
     "data": {
      "text/plain": [
       "<AxesSubplot:>"
      ]
     },
     "execution_count": 4,
     "metadata": {},
     "output_type": "execute_result"
    },
    {
     "data": {
      "image/png": "[encoded data removed]",
      "text/plain": [
       "<Figure size 432x288 with 2 Axes>"
      ]
     },
     "metadata": {
      "needs_background": "light"
     },
     "output_type": "display_data"
    }
   ],
   "source": [
    "from sklearn.metrics import classification_report, accuracy_score\n",
    "clf.fit(X_train, y_train)\n",
    "y_pred = clf.predict(X_test)\n",
    "print(classification_report(y_test, y_pred))\n",
    "print(accuracy_score(y_test,y_pred))\n",
    "test_accuracy.append(accuracy_score(y_test,y_pred))\n",
    "model.append(\"RF\")\n",
    "cf = confusion_matrix(y_test,y_pred)\n",
    "sns.heatmap(cf/np.sum(cf), annot=True,fmt='.2%')"
   ]
  },
  {
   "cell_type": "markdown",
   "metadata": {},
   "source": [
    "## 2. Feedforward Neural Network"
   ]
  },
  {
   "cell_type": "code",
   "execution_count": 5,
   "metadata": {},
   "outputs": [
    {
     "name": "stdout",
     "output_type": "stream",
     "text": [
      "0.746650014692918\n"
     ]
    }
   ],
   "source": [
    "from sklearn.neural_network import MLPClassifier\n",
    "\n",
    "clf = MLPClassifier(hidden_layer_sizes=3,max_iter=2000) # max_iter adjusted to reach convergence\n",
    "\n",
    "scores = cross_val_score(clf, X_train, y_train, cv=10, scoring=\"accuracy\")\n",
    "print(np.mean(scores))\n",
    "cv_accuracy.append(np.mean(scores))"
   ]
  },
  {
   "cell_type": "code",
   "execution_count": 6,
   "metadata": {},
   "outputs": [
    {
     "name": "stdout",
     "output_type": "stream",
     "text": [
      "              precision    recall  f1-score   support\n",
      "\n",
      "           0       0.72      0.77      0.74       138\n",
      "           1       0.75      0.69      0.72       136\n",
      "\n",
      "    accuracy                           0.73       274\n",
      "   macro avg       0.73      0.73      0.73       274\n",
      "weighted avg       0.73      0.73      0.73       274\n",
      "\n",
      "0.7299270072992701\n"
     ]
    },
    {
     "data": {
      "text/plain": [
       "<AxesSubplot:>"
      ]
     },
     "execution_count": 6,
     "metadata": {},
     "output_type": "execute_result"
    },
    {
     "data": {
      "image/png": "[encoded data removed]",
      "text/plain": [
       "<Figure size 432x288 with 2 Axes>"
      ]
     },
     "metadata": {
      "needs_background": "light"
     },
     "output_type": "display_data"
    }
   ],
   "source": [
    "from sklearn.metrics import classification_report, accuracy_score\n",
    "clf.fit(X_train, y_train)\n",
    "y_pred = clf.predict(X_test)\n",
    "print(classification_report(y_test, y_pred))\n",
    "print(accuracy_score(y_test,y_pred))\n",
    "test_accuracy.append(accuracy_score(y_test,y_pred))\n",
    "model.append(\"FNN\")\n",
    "cf = confusion_matrix(y_test,y_pred)\n",
    "sns.heatmap(cf/np.sum(cf), annot=True,fmt='.2%')"
   ]
  },
  {
   "cell_type": "markdown",
   "metadata": {},
   "source": [
    "## 3. Naive-Bayes Classifier"
   ]
  },
  {
   "cell_type": "code",
   "execution_count": 7,
   "metadata": {},
   "outputs": [
    {
     "name": "stdout",
     "output_type": "stream",
     "text": [
      "0.5785483397002645\n"
     ]
    }
   ],
   "source": [
    "from sklearn.naive_bayes import GaussianNB\n",
    "\n",
    "clf = GaussianNB() # useKernel=F for R package\n",
    "\n",
    "scores = cross_val_score(clf, X_train, y_train, cv=10, scoring=\"accuracy\")\n",
    "print(np.mean(scores))\n",
    "cv_accuracy.append(np.mean(scores))"
   ]
  },
  {
   "cell_type": "code",
   "execution_count": 8,
   "metadata": {},
   "outputs": [
    {
     "name": "stdout",
     "output_type": "stream",
     "text": [
      "              precision    recall  f1-score   support\n",
      "\n",
      "           0       0.70      0.41      0.52       138\n",
      "           1       0.58      0.82      0.68       136\n",
      "\n",
      "    accuracy                           0.61       274\n",
      "   macro avg       0.64      0.61      0.60       274\n",
      "weighted avg       0.64      0.61      0.60       274\n",
      "\n",
      "0.6131386861313869\n"
     ]
    },
    {
     "data": {
      "text/plain": [
       "<AxesSubplot:>"
      ]
     },
     "execution_count": 8,
     "metadata": {},
     "output_type": "execute_result"
    },
    {
     "data": {
      "image/png": "[encoded data removed]",
      "text/plain": [
       "<Figure size 432x288 with 2 Axes>"
      ]
     },
     "metadata": {
      "needs_background": "light"
     },
     "output_type": "display_data"
    }
   ],
   "source": [
    "from sklearn.metrics import classification_report, accuracy_score\n",
    "clf.fit(X_train, y_train)\n",
    "y_pred = clf.predict(X_test)\n",
    "print(classification_report(y_test, y_pred))\n",
    "print(accuracy_score(y_test,y_pred))\n",
    "test_accuracy.append(accuracy_score(y_test,y_pred))\n",
    "model.append(\"NB\")\n",
    "cf = confusion_matrix(y_test,y_pred)\n",
    "sns.heatmap(cf/np.sum(cf), annot=True,fmt='.2%')"
   ]
  },
  {
   "cell_type": "markdown",
   "metadata": {},
   "source": [
    "## 4. Summary"
   ]
  },
  {
   "cell_type": "markdown",
   "metadata": {},
   "source": [
    "<img src=\"../png/clf.png\" style=\"height: 250px; width:800px\"/>"
   ]
  },
  {
   "cell_type": "code",
   "execution_count": 9,
   "metadata": {},
   "outputs": [
    {
     "data": {
      "text/plain": [
       "Text(0, 0.5, 'Accuracy')"
      ]
     },
     "execution_count": 9,
     "metadata": {},
     "output_type": "execute_result"
    },
    {
     "data": {
      "image/png": "[encoded data removed]",
      "text/plain": [
       "<Figure size 432x288 with 1 Axes>"
      ]
     },
     "metadata": {
      "needs_background": "light"
     },
     "output_type": "display_data"
    }
   ],
   "source": [
    "import matplotlib.pyplot as plt\n",
    "bar_list = plt.bar(model,cv_accuracy)\n",
    "bar_list[0].set_color('green')\n",
    "plt.xlabel(\"Model\")\n",
    "plt.ylabel(\"Accuracy\")"
   ]
  },
  {
   "cell_type": "code",
   "execution_count": 10,
   "metadata": {},
   "outputs": [
    {
     "data": {
      "text/plain": [
       "Text(0, 0.5, 'Accuracy')"
      ]
     },
     "execution_count": 10,
     "metadata": {},
     "output_type": "execute_result"
    },
    {
     "data": {
      "image/png": "[encoded data removed]",
      "text/plain": [
       "<Figure size 432x288 with 1 Axes>"
      ]
     },
     "metadata": {
      "needs_background": "light"
     },
     "output_type": "display_data"
    }
   ],
   "source": [
    "bar_list = plt.bar(model,test_accuracy)\n",
    "bar_list[0].set_color('green')\n",
    "plt.xlabel(\"Model\")\n",
    "plt.ylabel(\"Accuracy\")"
   ]
  }
 ],
 "metadata": {
  "kernelspec": {
   "display_name": "Python 3",
   "language": "python",
   "name": "python3"
  },
  "language_info": {
   "codemirror_mode": {
    "name": "ipython",
    "version": 3
   },
   "file_extension": ".py",
   "mimetype": "text/x-python",
   "name": "python",
   "nbconvert_exporter": "python",
   "pygments_lexer": "ipython3",
   "version": "3.7.3"
  }
 },
 "nbformat": 4,
 "nbformat_minor": 5
}
