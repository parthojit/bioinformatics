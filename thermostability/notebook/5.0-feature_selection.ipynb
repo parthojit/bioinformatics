{
 "cells": [
  {
   "cell_type": "markdown",
   "metadata": {},
   "source": [
    "# Feature selection"
   ]
  },
  {
   "cell_type": "code",
   "execution_count": 74,
   "metadata": {},
   "outputs": [],
   "source": [
    "import pandas as pd\n",
    "from sklearn.feature_selection import RFE"
   ]
  },
  {
   "cell_type": "code",
   "execution_count": 75,
   "metadata": {},
   "outputs": [],
   "source": [
    "df_train = pd.read_csv('../src/ddg_bin_train.csv')\n",
    "df_test = pd.read_csv('../src/ddg_bin_test.csv')"
   ]
  },
  {
   "cell_type": "code",
   "execution_count": 76,
   "metadata": {},
   "outputs": [],
   "source": [
    "def return_array(df:pd.DataFrame):\n",
    "    X = df.iloc[:,0:len(df.columns)-1]\n",
    "    y = pd.get_dummies(df['ddGC'])\n",
    "    y = y['stable']\n",
    "    return X,y"
   ]
  },
  {
   "cell_type": "code",
   "execution_count": 77,
   "metadata": {},
   "outputs": [],
   "source": [
    "X_train, y_train = return_array(df_train)\n",
    "X_test, y_test = return_array(df_test)"
   ]
  },
  {
   "cell_type": "markdown",
   "metadata": {},
   "source": [
    "# RF Feature Selection (ddG Bin)"
   ]
  },
  {
   "cell_type": "code",
   "execution_count": 78,
   "metadata": {},
   "outputs": [
    {
     "data": {
      "text/plain": [
       "array([4, 1, 2, 3, 5, 1, 1, 1, 1])"
      ]
     },
     "execution_count": 78,
     "metadata": {},
     "output_type": "execute_result"
    }
   ],
   "source": [
    "# from sklearn.svm import SVC\n",
    "from sklearn.ensemble import RandomForestClassifier\n",
    "\n",
    "# clf = SVC(C=100,gamma='scale',kernel='linear') # kernel changed to linear\n",
    "clf = RandomForestClassifier()\n",
    "selector = RFE(clf, n_features_to_select=5, step=1)\n",
    "selector = selector.fit(X_train, y_train)\n",
    "selector.ranking_"
   ]
  },
  {
   "cell_type": "code",
   "execution_count": 84,
   "metadata": {},
   "outputs": [
    {
     "name": "stdout",
     "output_type": "stream",
     "text": [
      "{'ddG_calc': 'Rosetta ddG monomer calculation', 'delta_SASA': 'Solvent access surface area', 'delta_VdwV': 'Van der Waals volumn', 'delta_Hydro': 'Hydrophobicity', 'ASA_pct': 'Percentage accessible area of the mutation residue'}\n"
     ]
    },
    {
     "data": {
      "image/png": "[encoded data removed]",
      "text/plain": [
       "<Figure size 432x288 with 1 Axes>"
      ]
     },
     "metadata": {
      "needs_background": "light"
     },
     "output_type": "display_data"
    }
   ],
   "source": [
    "import matplotlib.pyplot as plt\n",
    "bar = plt.barh(X_train.columns,selector.ranking_)\n",
    "bar[1].set_color('green')\n",
    "bar[5].set_color('green')\n",
    "bar[6].set_color('green')\n",
    "bar[7].set_color('green')\n",
    "bar[8].set_color('green')\n",
    "plt.title(\"Feature Ranking (ddG Bin)\")\n",
    "\n",
    "labels = {\n",
    "    \"ddG_calc\": \"Rosetta ddG monomer calculation\",\n",
    "    \"delta_SASA\": \"Solvent access surface area\",\n",
    "    \"delta_VdwV\": \"Van der Waals volumn\",\n",
    "    \"delta_Hydro\": \"Hydrophobicity\",\n",
    "    \"ASA_pct\": \"Percentage accessible area of the mutation residue\"\n",
    "}\n",
    "print(labels)"
   ]
  },
  {
   "cell_type": "markdown",
   "metadata": {},
   "source": [
    "# RF Feature Selection (dTm Bin)"
   ]
  },
  {
   "cell_type": "code",
   "execution_count": 80,
   "metadata": {},
   "outputs": [
    {
     "data": {
      "text/plain": [
       "array([4, 1, 2, 3, 5, 1, 1, 1, 1])"
      ]
     },
     "execution_count": 80,
     "metadata": {},
     "output_type": "execute_result"
    }
   ],
   "source": [
    "df_train = pd.read_csv('../src/dTm_bin_train.csv')\n",
    "df_test = pd.read_csv('../src/dTm_bin_test.csv')\n",
    "\n",
    "def return_array(df:pd.DataFrame):\n",
    "    X = df.iloc[:,0:len(df.columns)-1]\n",
    "    y = pd.get_dummies(df['dTmC'])\n",
    "    y = y['stable']\n",
    "    return X,y\n",
    "\n",
    "X_train, y_train = return_array(df_train)\n",
    "X_test, y_test = return_array(df_test)\n",
    "\n",
    "clf = RandomForestClassifier()\n",
    "selector = RFE(clf, n_features_to_select=5, step=1)\n",
    "selector = selector.fit(X_train, y_train)\n",
    "selector.ranking_"
   ]
  },
  {
   "cell_type": "code",
   "execution_count": 85,
   "metadata": {},
   "outputs": [
    {
     "name": "stdout",
     "output_type": "stream",
     "text": [
      "{'ddG_calc': 'Rosetta ddG monomer calculation', 'delta_SASA': 'Solvent access surface area', 'delta_VdwV': 'Van der Waals volumn', 'delta_Hydro': 'Hydrophobicity', 'ASA_pct': 'Percentage accessible area of the mutation residue'}\n"
     ]
    },
    {
     "data": {
      "image/png": "[encoded data removed]",
      "text/plain": [
       "<Figure size 432x288 with 1 Axes>"
      ]
     },
     "metadata": {
      "needs_background": "light"
     },
     "output_type": "display_data"
    }
   ],
   "source": [
    "import matplotlib.pyplot as plt\n",
    "bar = plt.barh(X_train.columns,selector.ranking_)\n",
    "bar[1].set_color('green')\n",
    "bar[5].set_color('green')\n",
    "bar[6].set_color('green')\n",
    "bar[7].set_color('green')\n",
    "bar[8].set_color('green')\n",
    "plt.title(\"Feature Ranking (ddG Bin)\")\n",
    "labels = {\n",
    "    \"ddG_calc\": \"Rosetta ddG monomer calculation\",\n",
    "    \"delta_SASA\": \"Solvent access surface area\",\n",
    "    \"delta_VdwV\": \"Van der Waals volumn\",\n",
    "    \"delta_Hydro\": \"Hydrophobicity\",\n",
    "    \"ASA_pct\": \"Percentage accessible area of the mutation residue\"\n",
    "}\n",
    "print(labels)"
   ]
  },
  {
   "cell_type": "markdown",
   "metadata": {},
   "source": [
    "<img src=\"../src/feature_ranking.png\" style=\"height: 250px; width:1000px\"/>"
   ]
  },
  {
   "cell_type": "markdown",
   "metadata": {},
   "source": [
    "<img src=\"../src/model.png\" style=\"height: 800x; width:500px\"/>"
   ]
  }
 ],
 "metadata": {
  "kernelspec": {
   "display_name": "Python 3",
   "language": "python",
   "name": "python3"
  },
  "language_info": {
   "codemirror_mode": {
    "name": "ipython",
    "version": 3
   },
   "file_extension": ".py",
   "mimetype": "text/x-python",
   "name": "python",
   "nbconvert_exporter": "python",
   "pygments_lexer": "ipython3",
   "version": "3.7.3"
  }
 },
 "nbformat": 4,
 "nbformat_minor": 4
}
