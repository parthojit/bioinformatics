{
 "cells": [
  {
   "cell_type": "markdown",
   "id": "1ef212cf-6b51-4e2b-885a-bceb3a9832f4",
   "metadata": {},
   "source": [
    "# Activite/inactive (classification)"
   ]
  },
  {
   "cell_type": "code",
   "execution_count": 112,
   "id": "20aaec3a-7ebd-4954-8b63-12a8be6623da",
   "metadata": {},
   "outputs": [],
   "source": [
    "import pandas as pd\n",
    "import numpy as np\n",
    "df = pd.read_csv(\"../src/prot_features_clf.csv\")\n",
    "X = df.iloc[:,1:(len(df.columns)-1)].values\n",
    "y = pd.get_dummies(df['is_active'])\n",
    "y = np.array(y['Y'])\n",
    "\n",
    "from sklearn.model_selection import train_test_split\n",
    "X_train, X_test, y_train, y_test = train_test_split(X, y, test_size=0.25, random_state=42)"
   ]
  },
  {
   "cell_type": "code",
   "execution_count": 114,
   "id": "a3041743-5427-4f02-8025-02f5264dc517",
   "metadata": {},
   "outputs": [],
   "source": [
    "import pickle\n",
    "\n",
    "with open('../src/clf/X_train.pkl','wb') as f:\n",
    "    pickle.dump(X_train,f)\n",
    "    \n",
    "with open('../src/clf/X_test.pkl','wb') as f:\n",
    "    pickle.dump(X_test,f)\n",
    "\n",
    "with open('../src/clf/y_train.pkl','wb') as f:\n",
    "    pickle.dump(y_train,f)\n",
    "    \n",
    "with open('../src/clf/y_test.pkl','wb') as f:\n",
    "    pickle.dump(y_test,f)"
   ]
  },
  {
   "cell_type": "markdown",
   "id": "8b8c03ec-c610-4908-9b35-23a5240d9a22",
   "metadata": {},
   "source": [
    "## 1. Random Forest"
   ]
  },
  {
   "cell_type": "code",
   "execution_count": 119,
   "id": "254cf0d4-f376-4387-881c-fd5f055b6c05",
   "metadata": {},
   "outputs": [
    {
     "name": "stdout",
     "output_type": "stream",
     "text": [
      "0.7892153981780783\n"
     ]
    }
   ],
   "source": [
    "# best params {'bootstrap': True, 'min_samples_leaf': 5, 'min_samples_split': 2, 'n_estimators': 200}\n",
    "\n",
    "from sklearn.ensemble import RandomForestClassifier\n",
    "from sklearn.model_selection import cross_val_score, cross_val_predict\n",
    "import numpy as np\n",
    "model = []\n",
    "cv_accuracy = []\n",
    "test_accuracy = []\n",
    "\n",
    "clf = RandomForestClassifier(bootstrap=True, min_samples_leaf=5, min_samples_split=2,n_estimators=200)\n",
    "\n",
    "scores = cross_val_score(clf, X_train, y_train, cv=10, scoring=\"accuracy\")\n",
    "print(np.mean(scores))\n",
    "cv_accuracy.append(np.mean(scores))"
   ]
  },
  {
   "cell_type": "code",
   "execution_count": 120,
   "id": "36a653b6-5e9f-40ea-a742-10b5bebc9d15",
   "metadata": {},
   "outputs": [
    {
     "name": "stdout",
     "output_type": "stream",
     "text": [
      "              precision    recall  f1-score   support\n",
      "\n",
      "           0       0.78      0.86      0.82       138\n",
      "           1       0.84      0.76      0.80       136\n",
      "\n",
      "    accuracy                           0.81       274\n",
      "   macro avg       0.81      0.81      0.81       274\n",
      "weighted avg       0.81      0.81      0.81       274\n",
      "\n",
      "0.8065693430656934\n"
     ]
    }
   ],
   "source": [
    "from sklearn.metrics import classification_report, accuracy_score\n",
    "clf.fit(X_train, y_train)\n",
    "y_pred = clf.predict(X_test)\n",
    "print(classification_report(y_test, y_pred))\n",
    "print(accuracy_score(y_test,y_pred))\n",
    "test_accuracy.append(accuracy_score(y_test,y_pred))\n",
    "model.append(\"RF\")"
   ]
  },
  {
   "cell_type": "markdown",
   "id": "29809843-1301-4411-9233-f4d1549c13e2",
   "metadata": {},
   "source": [
    "## 2. Feedforward Neural Network"
   ]
  },
  {
   "cell_type": "code",
   "execution_count": 121,
   "id": "c11b89fe-8d55-421c-8640-8e47d4fe4cdd",
   "metadata": {},
   "outputs": [],
   "source": [
    "# insert here"
   ]
  },
  {
   "cell_type": "code",
   "execution_count": 122,
   "id": "80ca61ac-9947-4e09-98fb-60a89735dda2",
   "metadata": {},
   "outputs": [],
   "source": [
    "# insert here"
   ]
  },
  {
   "cell_type": "markdown",
   "id": "190d1b16-db46-4c88-814d-5f2171e04f96",
   "metadata": {},
   "source": [
    "## 3. Naive-Bayes Classifier"
   ]
  },
  {
   "cell_type": "code",
   "execution_count": 123,
   "id": "3df0f007-26e4-4ea1-b7a1-df9bb87fdc75",
   "metadata": {},
   "outputs": [],
   "source": [
    "# insert here"
   ]
  },
  {
   "cell_type": "code",
   "execution_count": 124,
   "id": "9b99befd-c84a-4f67-a75f-6f3c0da2cf75",
   "metadata": {},
   "outputs": [],
   "source": [
    "# insert here"
   ]
  },
  {
   "cell_type": "markdown",
   "id": "15ec7449-1c20-491d-af3e-8b47227e6b6e",
   "metadata": {},
   "source": [
    "## 4. Summary"
   ]
  },
  {
   "cell_type": "code",
   "execution_count": null,
   "id": "07f7ddfa-e192-4aee-a0fb-ebdba4160b29",
   "metadata": {},
   "outputs": [],
   "source": []
  }
 ],
 "metadata": {
  "kernelspec": {
   "display_name": "Python 3",
   "language": "python",
   "name": "python3"
  },
  "language_info": {
   "codemirror_mode": {
    "name": "ipython",
    "version": 3
   },
   "file_extension": ".py",
   "mimetype": "text/x-python",
   "name": "python",
   "nbconvert_exporter": "python",
   "pygments_lexer": "ipython3",
   "version": "3.7.3"
  }
 },
 "nbformat": 4,
 "nbformat_minor": 5
}
